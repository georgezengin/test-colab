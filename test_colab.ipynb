{
  "nbformat": 4,
  "nbformat_minor": 0,
  "metadata": {
    "colab": {
      "provenance": [],
      "authorship_tag": "ABX9TyPs+p6omCVHZQowTmeLTlpb",
      "include_colab_link": true
    },
    "kernelspec": {
      "name": "python3",
      "display_name": "Python 3"
    },
    "language_info": {
      "name": "python"
    }
  },
  "cells": [
    {
      "cell_type": "markdown",
      "metadata": {
        "id": "view-in-github",
        "colab_type": "text"
      },
      "source": [
        "<a href=\"https://colab.research.google.com/github/georgezengin/test-colab/blob/main/test_colab.ipynb\" target=\"_parent\"><img src=\"https://colab.research.google.com/assets/colab-badge.svg\" alt=\"Open In Colab\"/></a>"
      ]
    },
    {
      "cell_type": "code",
      "execution_count": 7,
      "metadata": {
        "colab": {
          "base_uri": "https://localhost:8080/"
        },
        "id": "ZiLII7hhF3G-",
        "outputId": "3e9e8e1f-dbdb-4a7c-fdc1-c368b3ba95fb"
      },
      "outputs": [
        {
          "output_type": "stream",
          "name": "stdout",
          "text": [
            "UryyB jBEyq!\n"
          ]
        }
      ],
      "source": [
        "# prompt: print hello world using rot13 without importing library\n",
        "\n",
        "def rot13(message):\n",
        "  rot13_chars = 'ABCDEFGHIJKLMNOPQRSTUVWXYZabcdefghijklmnopqrstuvwxyz'\n",
        "  encoded_chars = []\n",
        "  for char in message:\n",
        "    if char.isalpha():\n",
        "      index = rot13_chars.index(char)\n",
        "      encoded_char = rot13_chars[(index + 13) % 52]\n",
        "    else:\n",
        "      encoded_char = char\n",
        "    encoded_chars.append(encoded_char)\n",
        "  return ''.join(encoded_chars)\n",
        "\n",
        "message = 'Hello World!'\n",
        "encoded_message = rot13(message)\n",
        "print(encoded_message)\n"
      ]
    }
  ]
}